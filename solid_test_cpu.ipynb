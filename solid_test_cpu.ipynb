{
 "cells": [
  {
   "cell_type": "code",
   "execution_count": 1,
   "id": "5f8286cd",
   "metadata": {},
   "outputs": [
    {
     "name": "stdout",
     "output_type": "stream",
     "text": [
      "\n",
      "CPU times: total: 625 ms\n",
      "Wall time: 696 ms\n"
     ]
    }
   ],
   "source": [
    "%%time \n",
    "\n",
    "from IPython.display import display_html, clear_output, Markdown;\n",
    "from gc import collect;\n",
    "\n",
    "from copy import deepcopy;\n",
    "import pandas as pd;\n",
    "import numpy as np;\n",
    "import joblib;\n",
    "from os import system, getpid, walk;\n",
    "from psutil import Process;\n",
    "import ctypes;\n",
    "\n",
    "from pprint import pprint;\n",
    "from colorama import Fore, Style, init;\n",
    "from warnings import filterwarnings;\n",
    "filterwarnings('ignore');\n",
    "\n",
    "from tqdm.notebook import tqdm;\n",
    "\n",
    "print();\n",
    "collect();"
   ]
  },
  {
   "cell_type": "code",
   "execution_count": 2,
   "id": "1f7e4b36",
   "metadata": {},
   "outputs": [
    {
     "name": "stdout",
     "output_type": "stream",
     "text": [
      "lightgbm版本： 3.3.2\n"
     ]
    }
   ],
   "source": [
    "import lightgbm\n",
    "print('lightgbm版本：',lightgbm.__version__)"
   ]
  },
  {
   "cell_type": "code",
   "execution_count": 3,
   "id": "eaef6d06",
   "metadata": {},
   "outputs": [
    {
     "name": "stdout",
     "output_type": "stream",
     "text": [
      "\n",
      "CPU times: total: 234 ms\n",
      "Wall time: 622 ms\n"
     ]
    }
   ],
   "source": [
    "%%time \n",
    "\n",
    "from sklearn.model_selection import (RepeatedStratifiedKFold as RSKF, \n",
    "                                     StratifiedKFold as SKF,\n",
    "                                     KFold, \n",
    "                                     RepeatedKFold as RKF, \n",
    "                                     cross_val_score);\n",
    "\n",
    "from lightgbm import log_evaluation, early_stopping, LGBMRegressor as LGBMR;\n",
    "from xgboost import XGBRegressor as XGBR;\n",
    "from catboost import CatBoostRegressor as CBR;\n",
    "from sklearn.ensemble import HistGradientBoostingRegressor as HGBR;\n",
    "from sklearn.metrics import mean_absolute_error as mae, make_scorer;\n",
    "\n",
    "print();\n",
    "collect();"
   ]
  },
  {
   "cell_type": "code",
   "execution_count": 4,
   "id": "306f233b",
   "metadata": {},
   "outputs": [
    {
     "name": "stdout",
     "output_type": "stream",
     "text": [
      "\n",
      "CPU times: total: 46.9 ms\n",
      "Wall time: 55.9 ms\n"
     ]
    }
   ],
   "source": [
    "%%time\n",
    "  \n",
    "def PrintColor(text:str, color = Fore.BLUE, style = Style.BRIGHT):\n",
    "    print(style + color + text + Style.RESET_ALL); \n",
    "    \n",
    "def GetMemUsage():\n",
    "    pid = getpid();\n",
    "    py = Process(pid);\n",
    "    memory_use = py.memory_info()[0] / 2. ** 30;\n",
    "    return f\"RAM memory GB usage = {memory_use :.4}\";\n",
    "\n",
    "from sklearn import set_config; \n",
    "set_config(transform_output = \"pandas\");\n",
    "pd.set_option('display.max_columns', 50);\n",
    "pd.set_option('display.max_rows', 50);\n",
    "\n",
    "print();\n",
    "collect();"
   ]
  },
  {
   "cell_type": "code",
   "execution_count": 5,
   "id": "9441e3a6",
   "metadata": {},
   "outputs": [
    {
     "name": "stdout",
     "output_type": "stream",
     "text": [
      "\n",
      "\u001b[1m\u001b[34m--> Configuration done!\n",
      "\u001b[0m\n",
      "\u001b[1m\u001b[31m\n",
      "RAM memory GB usage = 0.1993\u001b[0m\n",
      "CPU times: total: 46.9 ms\n",
      "Wall time: 56.4 ms\n"
     ]
    }
   ],
   "source": [
    "%%time \n",
    "\n",
    "class CFG:\n",
    "\n",
    "\n",
    "    version_nb         = 1; # 版本号 没做一个调整 手动+1 \n",
    "\n",
    "    gpu_switch         = \"OFF\"; # 是否需要GPU\n",
    "    state              = 42; # 随机种子 random seed\n",
    "    mdl_path           = f''; # 模型路径 使用 joblib 转存训练后的模型\n",
    "    methods            = [\"LGBMR\", \"CBR\", \"HGBR\"]; # 所有训练过的模型方法 基于推理的内存约束选择一个以上 所有的训练后方法都需要存在\n",
    "    n_splits           = 5; # 交叉检验 分割数\n",
    "    n_repeats          = 1; # 交叉检验 重复数\n",
    "    nbrnd_erly_stp     = 100 ; # 提前停止轮次\n",
    "    mdlcv_mthd         = 'KF'; # 模型交叉验证选择\n",
    "\n",
    "print();\n",
    "PrintColor(f\"--> Configuration done!\\n\");\n",
    "collect();\n",
    "\n",
    "PrintColor(f\"\\n\" + GetMemUsage(), color = Fore.RED);"
   ]
  },
  {
   "cell_type": "code",
   "execution_count": 6,
   "id": "5ccf13af",
   "metadata": {},
   "outputs": [
    {
     "name": "stdout",
     "output_type": "stream",
     "text": [
      "\n",
      "\u001b[1m\u001b[31m\n",
      "RAM memory GB usage = 0.1994\u001b[0m\n",
      "CPU times: total: 46.9 ms\n",
      "Wall time: 56.9 ms\n"
     ]
    }
   ],
   "source": [
    "%%time \n",
    "\n",
    "all_cv= {'KF'  : KFold(n_splits= CFG.n_splits, shuffle = True, random_state= CFG.state),\n",
    "         'RKF' : RKF(n_splits= CFG.n_splits, n_repeats = CFG.n_repeats, random_state= CFG.state),\n",
    "         'RSKF': RSKF(n_splits= CFG.n_splits, n_repeats = CFG.n_repeats, random_state= CFG.state),\n",
    "         'SKF' : SKF(n_splits= CFG.n_splits, shuffle = True, random_state= CFG.state)\n",
    "        };\n",
    "\n",
    "def ScoreMetric(ytrue, ypred)-> float:\n",
    "    return mae(ytrue, ypred);\n",
    "\n",
    "myscorer = make_scorer(ScoreMetric, greater_is_better = False, needs_proba=False,);\n",
    "\n",
    "print();\n",
    "collect();\n",
    "\n",
    "PrintColor(f\"\\n\" + GetMemUsage(), color = Fore.RED);"
   ]
  },
  {
   "cell_type": "code",
   "execution_count": 7,
   "id": "890cbd55",
   "metadata": {},
   "outputs": [
    {
     "name": "stdout",
     "output_type": "stream",
     "text": [
      "\n",
      "\u001b[1m\u001b[31m\n",
      "RAM memory GB usage = 0.1996\u001b[0m\n",
      "CPU times: total: 62.5 ms\n",
      "Wall time: 59.8 ms\n"
     ]
    }
   ],
   "source": [
    "%%time \n",
    "\n",
    "\n",
    "Mdl_Master = \\\n",
    "{'CBR': CBR(**{'task_type'           : \"GPU\" if CFG.gpu_switch == \"ON\" else \"CPU\",\n",
    "               'objective'           : \"MAE\",\n",
    "               'eval_metric'         : \"MAE\",\n",
    "               'bagging_temperature' : 0.5,\n",
    "               'colsample_bylevel'   : 0.7, # rsm on GPU is supported for pairwise modes only gpu训练需注释\n",
    "               'iterations'          : 500,\n",
    "               'learning_rate'       : 0.065,\n",
    "               'od_wait'             : 25,\n",
    "               'max_depth'           : 7,\n",
    "               'l2_leaf_reg'         : 1.5,\n",
    "               'min_data_in_leaf'    : 1000,\n",
    "               'random_strength'     : 0.65, \n",
    "               'verbose'             : 0,\n",
    "               'use_best_model'      : True,\n",
    "              }\n",
    "           ), \n",
    "\n",
    "  'LGBMR': LGBMR(**{'device'            : \"gpu\" if CFG.gpu_switch == \"ON\" else \"cpu\",\n",
    "                    'objective'         : 'regression_l1',\n",
    "                    'boosting_type'     : 'gbdt',\n",
    "                    'random_state'      : CFG.state,\n",
    "                    'colsample_bytree'  : 0.7,\n",
    "                    'subsample'         : 0.65,\n",
    "                    'learning_rate'     : 0.065,\n",
    "                    'max_depth'         : 6,\n",
    "                    'n_estimators'      : 500,\n",
    "                    'num_leaves'        : 150,  \n",
    "                    'reg_alpha'         : 0.01,\n",
    "                    'reg_lambda'        : 3.25,\n",
    "                    'verbose'           : -1,\n",
    "                   }\n",
    "                ),\n",
    "\n",
    "  'XGBR': XGBR(**{'tree_method'        : \"gpu_hist\" if CFG.gpu_switch == \"ON\" else \"hist\",\n",
    "                  'objective'          : 'reg:absoluteerror',\n",
    "                  'random_state'       : CFG.state,\n",
    "                  'colsample_bytree'   : 0.7,\n",
    "                  'learning_rate'      : 0.07,\n",
    "                  'max_depth'          : 6,\n",
    "                  'n_estimators'       : 500,                         \n",
    "                  'reg_alpha'          : 0.025,\n",
    "                  'reg_lambda'         : 1.75,\n",
    "                  'min_child_weight'   : 1000,\n",
    "                  'early_stopping_rounds' : CFG.nbrnd_erly_stp,\n",
    "                 }\n",
    "              ),\n",
    "\n",
    "  \"HGBR\" : HGBR(loss              = 'squared_error',\n",
    "                learning_rate     = 0.075,\n",
    "                early_stopping    = True,\n",
    "                max_iter          = 200,\n",
    "                max_depth         = 6,\n",
    "                min_samples_leaf  = 1500,\n",
    "                l2_regularization = 1.75,\n",
    "                scoring           = myscorer,\n",
    "                random_state      = CFG.state,\n",
    "               )\n",
    "};\n",
    "\n",
    "print();\n",
    "collect();\n",
    "\n",
    "PrintColor(f\"\\n\" + GetMemUsage(), color = Fore.RED);"
   ]
  },
  {
   "cell_type": "code",
   "execution_count": 8,
   "id": "69049556",
   "metadata": {},
   "outputs": [
    {
     "name": "stdout",
     "output_type": "stream",
     "text": [
      "\u001b[1m\u001b[34m---> Train shapes for code testing = (5237892, 52) (5237892,)\u001b[0m\n"
     ]
    }
   ],
   "source": [
    "X = pd.read_parquet(f\"XTrIntCmpNewFtre.parquet\");\n",
    "y = pd.read_parquet(f\"Ytrain.parquet\").squeeze();  \n",
    "PrintColor(f\"---> Train shapes for code testing = {X.shape} {y.shape}\");"
   ]
  },
  {
   "cell_type": "code",
   "execution_count": 9,
   "id": "9431b909",
   "metadata": {},
   "outputs": [
    {
     "name": "stdout",
     "output_type": "stream",
     "text": [
      "\n",
      "\u001b[1m\u001b[31m\n",
      "RAM memory GB usage = 2.108\u001b[0m\n",
      "CPU times: total: 62.5 ms\n",
      "Wall time: 78.3 ms\n"
     ]
    }
   ],
   "source": [
    "%%time \n",
    "\n",
    "methods = CFG.methods;\n",
    "system('mkdir BaselineML');\n",
    "model_path = CFG.mdl_path;\n",
    "cv = all_cv[CFG.mdlcv_mthd];\n",
    "Scores = pd.DataFrame(index = range(CFG.n_splits * CFG.n_repeats),\n",
    "                      columns = methods).fillna(0).astype(np.float32);\n",
    "\n",
    "FtreImp = pd.DataFrame(index = X.columns, columns = [methods]).fillna(0);\n",
    "\n",
    "print();\n",
    "collect();\n",
    "# libc.malloc_trim(0);\n",
    "\n",
    "PrintColor(f\"\\n\" + GetMemUsage(), color = Fore.RED);"
   ]
  },
  {
   "cell_type": "code",
   "execution_count": 10,
   "id": "d3bdc041",
   "metadata": {},
   "outputs": [
    {
     "name": "stdout",
     "output_type": "stream",
     "text": [
      "\u001b[1m\u001b[34m\n",
      "========================= ML Training =========================\n",
      "\u001b[0m\n"
     ]
    },
    {
     "data": {
      "application/vnd.jupyter.widget-view+json": {
       "model_id": "dbb728c24b914d9285aaae8240f1723e",
       "version_major": 2,
       "version_minor": 0
      },
      "text/plain": [
       "KF CV 5x1: 0it [00:00, ?it/s]"
      ]
     },
     "metadata": {},
     "output_type": "display_data"
    },
    {
     "name": "stdout",
     "output_type": "stream",
     "text": [
      "\u001b[1m\u001b[34m-------> Fold0 <-------\u001b[0m\n",
      "\u001b[1m\u001b[35m---> LGBMR   OOF = 6.23653\u001b[0m\n",
      "\u001b[1m\u001b[35m---> CBR     OOF = 6.24631\u001b[0m\n",
      "\u001b[1m\u001b[35m---> HGBR    OOF = 6.25989\u001b[0m\n",
      "\u001b[1m\u001b[34mRAM memory GB usage = 4.225\u001b[0m\n",
      "\n",
      "\u001b[1m\u001b[34m-------> Fold1 <-------\u001b[0m\n",
      "\u001b[1m\u001b[35m---> LGBMR   OOF = 6.23245\u001b[0m\n",
      "\u001b[1m\u001b[35m---> CBR     OOF = 6.24223\u001b[0m\n",
      "\u001b[1m\u001b[35m---> HGBR    OOF = 6.25528\u001b[0m\n",
      "\u001b[1m\u001b[34mRAM memory GB usage = 4.265\u001b[0m\n",
      "\n",
      "\u001b[1m\u001b[34m-------> Fold2 <-------\u001b[0m\n",
      "\u001b[1m\u001b[35m---> LGBMR   OOF = 6.25118\u001b[0m\n",
      "\u001b[1m\u001b[35m---> CBR     OOF = 6.26125\u001b[0m\n",
      "\u001b[1m\u001b[35m---> HGBR    OOF = 6.27422\u001b[0m\n",
      "\u001b[1m\u001b[34mRAM memory GB usage = 4.256\u001b[0m\n",
      "\n",
      "\u001b[1m\u001b[34m-------> Fold3 <-------\u001b[0m\n",
      "\u001b[1m\u001b[35m---> LGBMR   OOF = 6.24040\u001b[0m\n",
      "\u001b[1m\u001b[35m---> CBR     OOF = 6.25115\u001b[0m\n",
      "\u001b[1m\u001b[35m---> HGBR    OOF = 6.26166\u001b[0m\n",
      "\u001b[1m\u001b[34mRAM memory GB usage = 3.981\u001b[0m\n",
      "\n",
      "\u001b[1m\u001b[34m-------> Fold4 <-------\u001b[0m\n",
      "\u001b[1m\u001b[35m---> LGBMR   OOF = 6.23869\u001b[0m\n",
      "\u001b[1m\u001b[35m---> CBR     OOF = 6.24917\u001b[0m\n",
      "\u001b[1m\u001b[35m---> HGBR    OOF = 6.26135\u001b[0m\n",
      "\u001b[1m\u001b[34mRAM memory GB usage = 3.972\u001b[0m\n",
      "\n",
      "\u001b[1m\u001b[34m\n",
      "---> OOF scores across methods <---\n",
      "\u001b[0m\n"
     ]
    },
    {
     "data": {
      "text/html": [
       "<style type=\"text/css\">\n",
       "#T_d1c91_row0_col0, #T_d1c91_row0_col1 {\n",
       "  background-color: #b3cde3;\n",
       "  color: #000000;\n",
       "}\n",
       "#T_d1c91_row0_col2, #T_d1c91_row4_col0, #T_d1c91_row4_col2 {\n",
       "  background-color: #ccebc5;\n",
       "  color: #000000;\n",
       "}\n",
       "#T_d1c91_row1_col0, #T_d1c91_row1_col1, #T_d1c91_row1_col2 {\n",
       "  background-color: #fbb4ae;\n",
       "  color: #000000;\n",
       "}\n",
       "#T_d1c91_row2_col0, #T_d1c91_row2_col1, #T_d1c91_row2_col2 {\n",
       "  background-color: #f2f2f2;\n",
       "  color: #000000;\n",
       "}\n",
       "#T_d1c91_row3_col0, #T_d1c91_row3_col2, #T_d1c91_row4_col1 {\n",
       "  background-color: #decbe4;\n",
       "  color: #000000;\n",
       "}\n",
       "#T_d1c91_row3_col1 {\n",
       "  background-color: #fed9a6;\n",
       "  color: #000000;\n",
       "}\n",
       "</style>\n",
       "<table id=\"T_d1c91\">\n",
       "  <thead>\n",
       "    <tr>\n",
       "      <th class=\"blank level0\" >&nbsp;</th>\n",
       "      <th id=\"T_d1c91_level0_col0\" class=\"col_heading level0 col0\" >LGBMR</th>\n",
       "      <th id=\"T_d1c91_level0_col1\" class=\"col_heading level0 col1\" >CBR</th>\n",
       "      <th id=\"T_d1c91_level0_col2\" class=\"col_heading level0 col2\" >HGBR</th>\n",
       "    </tr>\n",
       "    <tr>\n",
       "      <th class=\"index_name level0\" >FoldNb</th>\n",
       "      <th class=\"blank col0\" >&nbsp;</th>\n",
       "      <th class=\"blank col1\" >&nbsp;</th>\n",
       "      <th class=\"blank col2\" >&nbsp;</th>\n",
       "    </tr>\n",
       "  </thead>\n",
       "  <tbody>\n",
       "    <tr>\n",
       "      <th id=\"T_d1c91_level0_row0\" class=\"row_heading level0 row0\" >1</th>\n",
       "      <td id=\"T_d1c91_row0_col0\" class=\"data row0 col0\" >6.23653</td>\n",
       "      <td id=\"T_d1c91_row0_col1\" class=\"data row0 col1\" >6.24631</td>\n",
       "      <td id=\"T_d1c91_row0_col2\" class=\"data row0 col2\" >6.25989</td>\n",
       "    </tr>\n",
       "    <tr>\n",
       "      <th id=\"T_d1c91_level0_row1\" class=\"row_heading level0 row1\" >2</th>\n",
       "      <td id=\"T_d1c91_row1_col0\" class=\"data row1 col0\" >6.23245</td>\n",
       "      <td id=\"T_d1c91_row1_col1\" class=\"data row1 col1\" >6.24223</td>\n",
       "      <td id=\"T_d1c91_row1_col2\" class=\"data row1 col2\" >6.25528</td>\n",
       "    </tr>\n",
       "    <tr>\n",
       "      <th id=\"T_d1c91_level0_row2\" class=\"row_heading level0 row2\" >3</th>\n",
       "      <td id=\"T_d1c91_row2_col0\" class=\"data row2 col0\" >6.25118</td>\n",
       "      <td id=\"T_d1c91_row2_col1\" class=\"data row2 col1\" >6.26125</td>\n",
       "      <td id=\"T_d1c91_row2_col2\" class=\"data row2 col2\" >6.27422</td>\n",
       "    </tr>\n",
       "    <tr>\n",
       "      <th id=\"T_d1c91_level0_row3\" class=\"row_heading level0 row3\" >4</th>\n",
       "      <td id=\"T_d1c91_row3_col0\" class=\"data row3 col0\" >6.24040</td>\n",
       "      <td id=\"T_d1c91_row3_col1\" class=\"data row3 col1\" >6.25115</td>\n",
       "      <td id=\"T_d1c91_row3_col2\" class=\"data row3 col2\" >6.26166</td>\n",
       "    </tr>\n",
       "    <tr>\n",
       "      <th id=\"T_d1c91_level0_row4\" class=\"row_heading level0 row4\" >5</th>\n",
       "      <td id=\"T_d1c91_row4_col0\" class=\"data row4 col0\" >6.23869</td>\n",
       "      <td id=\"T_d1c91_row4_col1\" class=\"data row4 col1\" >6.24917</td>\n",
       "      <td id=\"T_d1c91_row4_col2\" class=\"data row4 col2\" >6.26135</td>\n",
       "    </tr>\n",
       "  </tbody>\n",
       "</table>\n"
      ],
      "text/plain": [
       "<pandas.io.formats.style.Styler at 0x1bbe0911fc0>"
      ]
     },
     "metadata": {},
     "output_type": "display_data"
    },
    {
     "name": "stdout",
     "output_type": "stream",
     "text": [
      "\u001b[1m\u001b[34m\n",
      "---> Mean OOF scores across methods <---\n",
      "\u001b[0m\n"
     ]
    },
    {
     "data": {
      "text/plain": [
       "LGBMR    6.239849\n",
       "CBR      6.250021\n",
       "HGBR     6.262478\n",
       "dtype: float64"
      ]
     },
     "metadata": {},
     "output_type": "display_data"
    },
    {
     "name": "stdout",
     "output_type": "stream",
     "text": [
      "\n",
      "\u001b[1m\u001b[32m\n",
      "RAM memory GB usage = 2.293\u001b[0m\n",
      "CPU times: total: 7h 42min 18s\n",
      "Wall time: 44min 12s\n"
     ]
    }
   ],
   "source": [
    "%%time \n",
    "\n",
    "PrintColor(f\"\\n{'=' * 25} ML Training {'=' * 25}\\n\");\n",
    "# 初始化 交叉验证分割\n",
    "# CFG mdlcv_mthd 交叉训练验证选择\n",
    "# Initializing CV splitting:-       \n",
    "for fold_nb, (train_idx, dev_idx) in tqdm(enumerate(cv.split(X, y)), \n",
    "                                          f\"{CFG.mdlcv_mthd} CV {CFG.n_splits}x{CFG.n_repeats}\"\n",
    "                                         ): \n",
    "    # Creating the cv folds:-    \n",
    "    Xtr  = X.iloc[train_idx];   \n",
    "    Xdev = X.iloc[dev_idx];\n",
    "    ytr  = y.iloc[train_idx];\n",
    "    ydev = y.iloc[dev_idx];\n",
    "\n",
    "    PrintColor(f\"-------> Fold{fold_nb} <-------\");\n",
    "    # Fitting the models:- \n",
    "    for method in methods:\n",
    "        model = Mdl_Master[method];\n",
    "        if method == \"LGBMR\":\n",
    "            model.fit(Xtr, ytr, \n",
    "                      eval_set = [(Xdev, ydev)], \n",
    "                      verbose = 0,\n",
    "                      eval_metric = \"rmse\",\n",
    "#                       eval_metric = \"mae\",\n",
    "                      callbacks = [log_evaluation(0,), \n",
    "                                   early_stopping(CFG.nbrnd_erly_stp, verbose = False)], \n",
    "                     );\n",
    "\n",
    "        elif method == \"XGBR\":\n",
    "            model.fit(Xtr, ytr, \n",
    "                      eval_set = [(Xdev, ydev)], \n",
    "                      verbose = 0, \n",
    "                      eval_metric = \"mae\",\n",
    "                     );  \n",
    "\n",
    "        elif method == \"CBR\":\n",
    "            model.fit(Xtr, ytr, \n",
    "                      eval_set = [(Xdev, ydev)], \n",
    "                      verbose = 0, \n",
    "                      early_stopping_rounds = CFG.nbrnd_erly_stp,\n",
    "                     ); \n",
    "\n",
    "        else:\n",
    "            model.fit(Xtr, ytr);\n",
    "\n",
    "        #  Saving the model for later usage:-\n",
    "        joblib.dump(model, CFG.mdl_path + f'{method}V{CFG.version_nb}Fold{fold_nb}.model');\n",
    "\n",
    "        # Creating OOF scores:-\n",
    "        score = ScoreMetric(ydev, model.predict(Xdev));\n",
    "        Scores.at[fold_nb, method] = score;\n",
    "        num_space = 6- len(method);\n",
    "        PrintColor(f\"---> {method} {' '* num_space} OOF = {score:.5f}\", \n",
    "                   color = Fore.MAGENTA);  \n",
    "        del num_space, score;\n",
    "\n",
    "        # Collecting feature importances:-\n",
    "        try:\n",
    "            FtreImp[method] = \\\n",
    "            FtreImp[method].values + (model.feature_importances_ / (CFG.n_splits * CFG.n_repeats));\n",
    "        except:\n",
    "            pass;\n",
    "\n",
    "        collect();\n",
    "\n",
    "    PrintColor(GetMemUsage());\n",
    "    print();\n",
    "    del Xtr, ytr, Xdev, ydev;\n",
    "    collect();\n",
    "\n",
    "# clear_output();\n",
    "PrintColor(f\"\\n---> OOF scores across methods <---\\n\");\n",
    "Scores.index.name = \"FoldNb\";\n",
    "Scores.index = Scores.index + 1;\n",
    "display(Scores.style.format(precision = 5).\\\n",
    "        background_gradient(cmap = \"Pastel1\")\n",
    "       );\n",
    "\n",
    "PrintColor(f\"\\n---> Mean OOF scores across methods <---\\n\");\n",
    "display(Scores.mean());\n",
    "\n",
    "try: FtreImp.to_csv(CFG.mdl_path + f\"FtreImp_V{CFG.version_nb}.csv\");\n",
    "except: pass;\n",
    "        \n",
    "collect();\n",
    "print();\n",
    "# libc.malloc_trim(0);\n",
    "\n",
    "PrintColor(f\"\\n\" + GetMemUsage(), color = Fore.GREEN);"
   ]
  },
  {
   "cell_type": "code",
   "execution_count": 11,
   "id": "eb4d577c",
   "metadata": {},
   "outputs": [],
   "source": [
    "# mae 和 rsme"
   ]
  },
  {
   "cell_type": "code",
   "execution_count": null,
   "id": "80d83f9c",
   "metadata": {},
   "outputs": [],
   "source": []
  },
  {
   "cell_type": "code",
   "execution_count": null,
   "id": "8231d361",
   "metadata": {},
   "outputs": [],
   "source": []
  }
 ],
 "metadata": {
  "kernelspec": {
   "display_name": "Python 3 (ipykernel)",
   "language": "python",
   "name": "python3"
  },
  "language_info": {
   "codemirror_mode": {
    "name": "ipython",
    "version": 3
   },
   "file_extension": ".py",
   "mimetype": "text/x-python",
   "name": "python",
   "nbconvert_exporter": "python",
   "pygments_lexer": "ipython3",
   "version": "3.10.9"
  }
 },
 "nbformat": 4,
 "nbformat_minor": 5
}
