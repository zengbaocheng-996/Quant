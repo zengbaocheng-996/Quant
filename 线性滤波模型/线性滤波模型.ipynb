{
 "cells": [
  {
   "cell_type": "markdown",
   "id": "69c0e7ff",
   "metadata": {},
   "source": [
    "# 线性滤波模型"
   ]
  },
  {
   "cell_type": "code",
   "execution_count": 18,
   "id": "4d0fda3e",
   "metadata": {},
   "outputs": [],
   "source": [
    "import warnings\n",
    "warnings.filterwarnings('ignore')"
   ]
  },
  {
   "cell_type": "markdown",
   "id": "613bc6f6",
   "metadata": {},
   "source": [
    "## 小波滤波"
   ]
  },
  {
   "cell_type": "code",
   "execution_count": 19,
   "id": "fd406441",
   "metadata": {},
   "outputs": [],
   "source": [
    "import pywt # pip install PyWavelets\n",
    "from scipy.io import loadmat\n",
    "import matplotlib.pyplot as plt"
   ]
  },
  {
   "cell_type": "code",
   "execution_count": 20,
   "id": "e91f20b3",
   "metadata": {},
   "outputs": [
    {
     "name": "stdout",
     "output_type": "stream",
     "text": [
      "['haar', 'db', 'sym', 'coif', 'bior', 'rbio', 'dmey', 'gaus', 'mexh', 'morl', 'cgau', 'shan', 'fbsp', 'cmor']\n",
      "haar family: haar\n",
      "db family: db1,db2,db3,db4,db5,db6,db7,db8,db9,db10,db11,db12,db13,db14,db15,db16,db17,db18,db19,db20,db21,db22,db23,db24,db25,db26,db27,db28,db29,db30,db31,db32,db33,db34,db35,db36,db37,db38\n",
      "sym family: sym2,sym3,sym4,sym5,sym6,sym7,sym8,sym9,sym10,sym11,sym12,sym13,sym14,sym15,sym16,sym17,sym18,sym19,sym20\n",
      "coif family: coif1,coif2,coif3,coif4,coif5,coif6,coif7,coif8,coif9,coif10,coif11,coif12,coif13,coif14,coif15,coif16,coif17\n",
      "bior family: bior1.1,bior1.3,bior1.5,bior2.2,bior2.4,bior2.6,bior2.8,bior3.1,bior3.3,bior3.5,bior3.7,bior3.9,bior4.4,bior5.5,bior6.8\n",
      "rbio family: rbio1.1,rbio1.3,rbio1.5,rbio2.2,rbio2.4,rbio2.6,rbio2.8,rbio3.1,rbio3.3,rbio3.5,rbio3.7,rbio3.9,rbio4.4,rbio5.5,rbio6.8\n",
      "dmey family: dmey\n",
      "gaus family: gaus1,gaus2,gaus3,gaus4,gaus5,gaus6,gaus7,gaus8\n",
      "mexh family: mexh\n",
      "morl family: morl\n",
      "cgau family: cgau1,cgau2,cgau3,cgau4,cgau5,cgau6,cgau7,cgau8\n",
      "shan family: shan\n",
      "fbsp family: fbsp\n",
      "cmor family: cmor\n"
     ]
    }
   ],
   "source": [
    "print(pywt.families()) # 小波族\n",
    "for family in pywt.families():  #打印出每个小波族的每个小波函数\n",
    "    print('%s family: '%(family) + ','.join(pywt.wavelist(family)))"
   ]
  },
  {
   "cell_type": "code",
   "execution_count": 21,
   "id": "6d6fd502",
   "metadata": {},
   "outputs": [],
   "source": [
    "def WaveletFilter(single_factor, wavelet, levels):\n",
    "    # wavelet 小波对象或名称字符串\n",
    "    # 要使用的小波，小波基函数名称或是小波基函数对象；\n",
    "    # model string, optional\n",
    "    # 边界处理方式；信号扩展方式。'zero', 'constant', 'symmetric', 等方式\n",
    "    # level int, optional\n",
    "    # 分解的层数；（必须大于0）。默认使用dwt_max_level函数计算。\n",
    "    # axis: int, optional\n",
    "    # 沿着哪一个轴进行分解。如果没有给出，则使用最后一个轴。\n",
    "    coefficients = pywt.wavedec(single_factor, wavelet, level=levels)\n",
    "    # coefficients是一个列表，包含了每一层分解的系数。其中，第一个元素为逼近系数（低频信号），后面的元素则是一些细节系数（高频信号）。\n",
    "    filtered_coeffs = coefficients[:1] + [None] * (len(coefficients) - 1) # 去掉高频\n",
    "    return pywt.waverec(filtered_coeffs, wavelet)"
   ]
  },
  {
   "cell_type": "code",
   "execution_count": 22,
   "id": "8bdbce40",
   "metadata": {},
   "outputs": [],
   "source": [
    "single_factor = [7,2,3,4,15,6,7,-8,9,10]\n",
    "wavelet            = 'sym2'\n",
    "levels             = 1\n",
    "reconstructed_single_factor = WaveletFilter(single_factor, wavelet, levels)"
   ]
  },
  {
   "cell_type": "code",
   "execution_count": 23,
   "id": "867627eb",
   "metadata": {},
   "outputs": [
    {
     "data": {
      "image/png": "[encoded data removed]",
      "text/plain": [
       "<Figure size 432x288 with 1 Axes>"
      ]
     },
     "metadata": {
      "needs_background": "light"
     },
     "output_type": "display_data"
    }
   ],
   "source": [
    "plt.rcParams['font.sans-serif'] = ['SimHei']    # 设置正常显示中文\n",
    "plt.plot(reconstructed_single_factor, \"g\", label='滤波优化值')\n",
    "plt.plot(single_factor, \"r--\", label='测量值')\n",
    "plt.xlabel(\"序号\")                                # 设置X轴的名字\n",
    "plt.ylabel(\"单因子\")                                # 设置Y轴的名字\n",
    "plt.title(\"小波滤波示意图\")                      # 设置标题\n",
    "plt.legend()                                      # 设置图例\n",
    "plt.show()                                        # 显示图表"
   ]
  },
  {
   "cell_type": "code",
   "execution_count": 24,
   "id": "62138fd8",
   "metadata": {},
   "outputs": [
    {
     "data": {
      "text/plain": [
       "array([ 4.33822142,  3.30472777,  4.73205081,  5.5       ,  8.83493649,\n",
       "       11.48205081,  2.08253175, -4.08910162,  6.07924682, 11.86931033])"
      ]
     },
     "execution_count": 24,
     "metadata": {},
     "output_type": "execute_result"
    }
   ],
   "source": [
    "reconstructed_single_factor"
   ]
  },
  {
   "cell_type": "markdown",
   "id": "bc76a88f",
   "metadata": {},
   "source": [
    "## 卡尔曼滤波"
   ]
  },
  {
   "cell_type": "code",
   "execution_count": 25,
   "id": "1a8191b0",
   "metadata": {},
   "outputs": [],
   "source": [
    "import numpy as np\n",
    "import matplotlib.pyplot as plt"
   ]
  },
  {
   "cell_type": "code",
   "execution_count": 26,
   "id": "0bbaa1cd",
   "metadata": {},
   "outputs": [],
   "source": [
    "import math\n",
    "# 获得一个数最大整除数\n",
    "def get_max_divisor(N):\n",
    "    for i in range(N-1,0,-1):\n",
    "        if N%i ==0:\n",
    "            return i\n",
    "    return 1"
   ]
  },
  {
   "cell_type": "code",
   "execution_count": 27,
   "id": "5c7d09d7",
   "metadata": {},
   "outputs": [],
   "source": [
    "def KalmanFilter(single_factor):\n",
    "    max_divisor = get_max_divisor(len(single_factor))\n",
    "    delta_t = 1 / max_divisor                       # 每秒钟采一次样\n",
    "    time_t =len(single_factor)                      # 采样次数\n",
    "    end_t = len(single_factor)/max_divisor         # 时间长度\n",
    "\n",
    "    t = np.arange(0, end_t, delta_t)              # 设置时间数组\n",
    "    v_var = 1                                     # 测量噪声的方差\n",
    "    v_noise = np.round(np.random.normal(0, v_var, time_t), 2)# 定义测量噪声\n",
    "    a=1                                           #加速度\n",
    "    vn=np.add(single_factor , v_noise)       # 定义仪器测量的位置\n",
    "    v=a*t  #定义速度数组\n",
    "    a1=np.linspace(a,a,time_t)\n",
    "\n",
    "    x = np.mat([vn,v,a1])                         # 定义状态矩阵\n",
    "    u = 0                                         # 定义外界对系统作用矩阵\n",
    "    A = np.mat([[1, delta_t, 1/2*delta_t], [0, 1, delta_t], [0, 0, 1]])          # 定义状态转移矩阵\n",
    "    B = 0                                         # 定义输入控制矩阵\n",
    "    P = np.mat([[1, 0,0], [0, 1,0],[0,0,1]])      # 定义初始状态协方差矩阵\n",
    "    Q = np.mat([[0.001, 0,0], [0, 0.001,0],[0,0,0.001]])        # 定义状态转移(预测噪声)协方差矩阵\n",
    "    H = np.mat([1, 0, 0])                         # 定义观测矩阵\n",
    "    R = np.mat([1])                               # 定义观测噪声协方差矩阵\n",
    "    xr = np.shape(x)[0]                     # 调用状态矩阵行数\n",
    "    xc = np.shape(x)[1]                     # 调用状态矩阵列数\n",
    "    X_mat = x.copy()                        # 初始化记录系统优化状态值的矩阵(浅拷贝）\n",
    "    X = x.T[0].T                            # 抽取预测优化值的初始状态值\n",
    "    Z = H * x\n",
    "    for i in range(1,xc):\n",
    "        # 预测\n",
    "        X_predict = A * X                   # 估算状态变量\n",
    "        if B!=0:\n",
    "            X_predict = A * X + B * u.T[i-1].T\n",
    "        P_predict = A * P * A.T + Q         # 估算状态误差协方差\n",
    "        # 校正\n",
    "        K = P_predict * H.T / (H * P_predict * H.T + R)  # 更新卡尔曼增益\n",
    "        X = X_predict + K * (Z.T[i].T - H * X_predict)  # 更新预测优化值\n",
    "        P = (np.eye(xr) - K * H) * P_predict  # 更新状态误差协方差\n",
    "        # 记录系统的预测优化值\n",
    "        for j in range(xr):\n",
    "            X_mat[j, i] = X[j, 0]\n",
    "    Z_mat = H * X_mat\n",
    "    return Z_mat,t,x"
   ]
  },
  {
   "cell_type": "code",
   "execution_count": 28,
   "id": "b39b5665",
   "metadata": {},
   "outputs": [],
   "source": [
    "single_factor = [7,2,3,4,15,6,7,-8,9,10]\n",
    "kf,t,x=KalmanFilter(single_factor)\n",
    "reconstructed_single_factor = np.array(kf)[0]"
   ]
  },
  {
   "cell_type": "code",
   "execution_count": 29,
   "id": "27dc3a9c",
   "metadata": {},
   "outputs": [
    {
     "data": {
      "image/png": "[encoded data removed]",
      "text/plain": [
       "<Figure size 432x288 with 1 Axes>"
      ]
     },
     "metadata": {
      "needs_background": "light"
     },
     "output_type": "display_data"
    }
   ],
   "source": [
    "plt.rcParams['font.sans-serif'] = ['SimHei']    # 设置正常显示中文\n",
    "plt.plot(reconstructed_single_factor, \"g\", label='滤波优化值')\n",
    "plt.plot(single_factor, \"r--\", label='测量值')\n",
    "plt.xlabel(\"序号\")                                # 设置X轴的名字\n",
    "plt.ylabel(\"单因子\")                                # 设置Y轴的名字\n",
    "plt.title(\"卡尔曼滤波示意图\")                      # 设置标题\n",
    "plt.legend()                                      # 设置图例\n",
    "plt.show()                                        # 显示图表"
   ]
  },
  {
   "cell_type": "code",
   "execution_count": 30,
   "id": "a67b70bc",
   "metadata": {},
   "outputs": [
    {
     "data": {
      "text/plain": [
       "array([6.15      , 4.31812774, 3.43684639, 3.69384059, 7.65111278,\n",
       "       8.54448456, 8.12271621, 2.4027916 , 4.7532448 , 6.81128717])"
      ]
     },
     "execution_count": 30,
     "metadata": {},
     "output_type": "execute_result"
    }
   ],
   "source": [
    "reconstructed_single_factor"
   ]
  },
  {
   "cell_type": "markdown",
   "id": "05d76529",
   "metadata": {},
   "source": [
    "## 高斯滤波"
   ]
  },
  {
   "cell_type": "code",
   "execution_count": 31,
   "id": "cfa77c84",
   "metadata": {},
   "outputs": [],
   "source": [
    "import numpy as np\n",
    "from scipy.ndimage import gaussian_filter1d\n",
    "import matplotlib.pyplot as plt"
   ]
  },
  {
   "cell_type": "code",
   "execution_count": 32,
   "id": "9a6c5611",
   "metadata": {},
   "outputs": [],
   "source": [
    "def GaussianFilter(single_factor, sigma):\n",
    "    return gaussian_filter1d(single_factor, sigma)"
   ]
  },
  {
   "cell_type": "code",
   "execution_count": 33,
   "id": "a8739ad5",
   "metadata": {},
   "outputs": [],
   "source": [
    "single_factor = [7,2,3,4,15,6,7,-8,9,10]\n",
    "# sigma 控制高斯滤波器的平滑程度 较大的sigma值将产生更平滑的输出\n",
    "sigma = 1\n",
    "reconstructed_single_factor = GaussianFilter(single_factor, sigma)"
   ]
  },
  {
   "cell_type": "code",
   "execution_count": 34,
   "id": "b33b3419",
   "metadata": {},
   "outputs": [
    {
     "data": {
      "image/png": "[encoded data removed]",
      "text/plain": [
       "<Figure size 432x288 with 1 Axes>"
      ]
     },
     "metadata": {
      "needs_background": "light"
     },
     "output_type": "display_data"
    }
   ],
   "source": [
    "plt.rcParams['font.sans-serif'] = ['SimHei']    # 设置正常显示中文\n",
    "plt.plot(reconstructed_single_factor, \"g\", label='滤波优化值')\n",
    "plt.plot(single_factor, \"r--\", label='测量值')\n",
    "plt.xlabel(\"序号\")                                # 设置X轴的名字\n",
    "plt.ylabel(\"单因子\")                                # 设置Y轴的名字\n",
    "plt.title(\"高斯滤波示意图\")                      # 设置标题\n",
    "plt.legend()                                      # 设置图例\n",
    "plt.show()                                        # 显示图表"
   ]
  },
  {
   "cell_type": "code",
   "execution_count": 35,
   "id": "f0430aa3",
   "metadata": {},
   "outputs": [
    {
     "data": {
      "text/plain": [
       "array([5, 3, 3, 6, 8, 7, 3, 1, 5, 8])"
      ]
     },
     "execution_count": 35,
     "metadata": {},
     "output_type": "execute_result"
    }
   ],
   "source": [
    "reconstructed_single_factor"
   ]
  },
  {
   "cell_type": "code",
   "execution_count": null,
   "id": "fc6d6e42",
   "metadata": {},
   "outputs": [],
   "source": []
  }
 ],
 "metadata": {
  "kernelspec": {
   "display_name": "Python 3 (ipykernel)",
   "language": "python",
   "name": "python3"
  },
  "language_info": {
   "codemirror_mode": {
    "name": "ipython",
    "version": 3
   },
   "file_extension": ".py",
   "mimetype": "text/x-python",
   "name": "python",
   "nbconvert_exporter": "python",
   "pygments_lexer": "ipython3",
   "version": "3.9.12"
  }
 },
 "nbformat": 4,
 "nbformat_minor": 5
}
